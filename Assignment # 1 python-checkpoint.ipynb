{
 "cells": [
  {
   "cell_type": "code",
   "execution_count": 7,
   "id": "b3508e0c",
   "metadata": {},
   "outputs": [
    {
     "name": "stdout",
     "output_type": "stream",
     "text": [
      "Twinkle twinkle, little star\n",
      "  how i Wonder what you are\n",
      "\n",
      "      Up above the world so high\n",
      "       Like a diamond in the sky\n",
      "\n",
      "  Twinkle twinkle, little star\n",
      "   how i Wonder what you are\n"
     ]
    }
   ],
   "source": [
    "print(\"Twinkle twinkle, little star\\n  how i Wonder what you are\\n\\n      Up above the world so high\\n       Like a diamond in the sky\\n\\n  Twinkle twinkle, little star\\n   how i Wonder what you are\")"
   ]
  },
  {
   "cell_type": "code",
   "execution_count": null,
   "id": "df8d6be1",
   "metadata": {},
   "outputs": [],
   "source": []
  }
 ],
 "metadata": {
  "kernelspec": {
   "display_name": "Python 3 (ipykernel)",
   "language": "python",
   "name": "python3"
  },
  "language_info": {
   "codemirror_mode": {
    "name": "ipython",
    "version": 3
   },
   "file_extension": ".py",
   "mimetype": "text/x-python",
   "name": "python",
   "nbconvert_exporter": "python",
   "pygments_lexer": "ipython3",
   "version": "3.9.7"
  }
 },
 "nbformat": 4,
 "nbformat_minor": 5
}
