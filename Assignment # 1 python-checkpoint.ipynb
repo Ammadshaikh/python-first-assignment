{
 "cells": [
  {
   "cell_type": "code",
   "execution_count": 7,
   "id": "29f67cb9",
   "metadata": {},
   "outputs": [
    {
     "name": "stdout",
     "output_type": "stream",
     "text": [
      "Twinkle twinkle, little star\n",
      "  how i Wonder what you are\n",
      "\n",
      "      Up above the world so high\n",
      "       Like a diamond in the sky\n",
      "\n",
      "  Twinkle twinkle, little star\n",
      "   how i Wonder what you are\n"
     ]
    }
   ],
   "source": [
    "print(\"Twinkle twinkle, little star\\n  how i Wonder what you are\\n\\n      Up above the world so high\\n       Like a diamond in the sky\\n\\n  Twinkle twinkle, little star\\n   how i Wonder what you are\")"
   ]
  },
  {
   "cell_type": "code",
   "execution_count": 8,
   "id": "b45923c5",
   "metadata": {},
   "outputs": [
    {
     "name": "stdout",
     "output_type": "stream",
     "text": [
      "we are using Python 3 ipykernel Version\n"
     ]
    }
   ],
   "source": [
    "print(\"we are using Python 3 ipykernel Version\")"
   ]
  },
  {
   "cell_type": "code",
   "execution_count": 9,
   "id": "70fc3500",
   "metadata": {},
   "outputs": [
    {
     "name": "stdout",
     "output_type": "stream",
     "text": [
      "Day=> Thursday\n",
      "  Date=> 30/december/2021\n"
     ]
    }
   ],
   "source": [
    "print(\"Day=> Thursday\\n  Date=> 30/december/2021\")"
   ]
  },
  {
   "cell_type": "code",
   "execution_count": 14,
   "id": "28ce87cc",
   "metadata": {},
   "outputs": [
    {
     "name": "stdout",
     "output_type": "stream",
     "text": [
      "enter  the value of radius5\n",
      "78.5\n"
     ]
    }
   ],
   "source": [
    "radius = int(input(\"enter  the value of radius\"))\n",
    "a = 3.14*radius**2\n",
    "print(a)"
   ]
  },
  {
   "cell_type": "code",
   "execution_count": 15,
   "id": "764f32f6",
   "metadata": {},
   "outputs": [
    {
     "name": "stdout",
     "output_type": "stream",
     "text": [
      "enter your first NameAmmad\n",
      "enter your last NameShaikh\n",
      "hkiahSdammA\n"
     ]
    }
   ],
   "source": [
    "a = input(\"enter your first Name\")\n",
    "b = input(\"enter your last Name\")\n",
    "c = a+b\n",
    "print(c[::-1])"
   ]
  },
  {
   "cell_type": "code",
   "execution_count": 17,
   "id": "b1e13054",
   "metadata": {},
   "outputs": [
    {
     "name": "stdout",
     "output_type": "stream",
     "text": [
      "4\n",
      "5\n",
      "The addition of two number: 9\n"
     ]
    }
   ],
   "source": [
    "a = int(input())\n",
    "b = int(input())\n",
    "c = a+b\n",
    "print(\"The addition of two number:\", c)"
   ]
  },
  {
   "cell_type": "code",
   "execution_count": null,
   "id": "6847f564",
   "metadata": {},
   "outputs": [],
   "source": []
  }
 ],
 "metadata": {
  "kernelspec": {
   "display_name": "Python 3 (ipykernel)",
   "language": "python",
   "name": "python3"
  },
  "language_info": {
   "codemirror_mode": {
    "name": "ipython",
    "version": 3
   },
   "file_extension": ".py",
   "mimetype": "text/x-python",
   "name": "python",
   "nbconvert_exporter": "python",
   "pygments_lexer": "ipython3",
   "version": "3.9.7"
  }
 },
 "nbformat": 4,
 "nbformat_minor": 5
}
